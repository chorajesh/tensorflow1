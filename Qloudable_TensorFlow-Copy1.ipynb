{
 "cells": [
  {
   "cell_type": "markdown",
   "metadata": {},
   "source": [
    "Recently I saw a post on the facebook by one of friend and he challenged me.\n",
    "<br>\n",
    "1 = 12\n",
    "<br>\n",
    "2 = 21\n",
    "<br>\n",
    "3 = 30\n",
    "<br>\n",
    "10 = 93\n",
    "<br>\n",
    "20 = 183\n",
    "<br>\n",
    "80 = 723\n",
    "<br>\n",
    "54 = 489\n",
    "<br>\n",
    "72 = 651\n",
    "<br>\n",
    "90 = 813\n",
    "<br>\n",
    "36 = ?\n",
    "\n",
    "<br>\n",
    "I was not able to answer the question immediately. \n",
    "After a while I found out the input number should be multipled by 9 and add 3 gives the result.\n",
    "<br>\n",
    "1 = 1*9 + 3\n",
    "<br>\n",
    "90 = 90*9 + 3\n",
    "<br>\n",
    "The same way 36 = 36*9 + 3.\n",
    "<br>\n",
    "So the final answer is 327\n",
    "Now I can answer for any number just by writing a simple program.\n",
    "Wait.. How did I achieve the program logic. Because I am basically smart enough to identify these kind\n",
    "of solutions(just kidding) so I say this is of my natural intelligence.\n",
    "From now onwards I can do the calculation for any input number, because I was trained for the above set of\n",
    "input and output values.\n",
    "To make my job easy I wrote a program using simple python as mentioned below."
   ]
  },
  {
   "cell_type": "code",
   "execution_count": 3,
   "metadata": {},
   "outputs": [],
   "source": [
    "def estimate(x):\n",
    "    return x*9 + 3"
   ]
  },
  {
   "cell_type": "code",
   "execution_count": 4,
   "metadata": {},
   "outputs": [
    {
     "data": {
      "text/plain": [
       "327"
      ]
     },
     "execution_count": 4,
     "metadata": {},
     "output_type": "execute_result"
    }
   ],
   "source": [
    "estimate(36)"
   ]
  },
  {
   "cell_type": "markdown",
   "metadata": {},
   "source": [
    "The above logic is so simple(atleast for me), but what if the logic is too complex, \n",
    "what if instead of single input if we need to calculate with more inputs to derive the final output.\n",
    "<br>\n",
    "Can we identify the function or logic to calculate the output value?\n",
    "<br>\n",
    "Can we write a program to identify the logic?\n",
    "<br>\n",
    "Can we build a brain that mimics you or me..?\n",
    "<br>\n",
    "Why not, we can build one using artificial intelligence that mimics us(you and me).\n",
    "<br>\n",
    "So our expected function is f(x) = 9x + 3 or y = 9x + 3"
   ]
  },
  {
   "cell_type": "markdown",
   "metadata": {},
   "source": [
    "The above task can be achieved by traditional machine learning algorithms. But in this course we will\n",
    "build a Neural network model.\n",
    "<br>\n",
    "Just think of our brain. Our brain contains lot of nuerons and every neuron will process some input \n",
    "and provides the output to the next nueron or nuerons. Our brain nuerons or interconnected and responsible \n",
    "for processing the input for the actions."
   ]
  },
  {
   "cell_type": "markdown",
   "metadata": {},
   "source": [
    "We will use tensor flow to build a model to process the above input. We use tensorflow 2.x version"
   ]
  },
  {
   "cell_type": "code",
   "execution_count": 7,
   "metadata": {},
   "outputs": [],
   "source": [
    "import tensorflow as tf\n",
    "import numpy as np"
   ]
  },
  {
   "cell_type": "code",
   "execution_count": null,
   "metadata": {},
   "outputs": [],
   "source": [
    "Define the input and output to train our model. Our tensorflow accepts only the numerical values.\n",
    "So every input that we provide to the model should be converted to numerical values."
   ]
  },
  {
   "cell_type": "code",
   "execution_count": 8,
   "metadata": {},
   "outputs": [],
   "source": [
    "input = np.array([1, 2, 3, 10, 20, 80, 54, 72, 90],  dtype=float)\n",
    "output = np.array([12, 21, 30, 93, 183, 723, 489, 651, 813],dtype=float)"
   ]
  },
  {
   "cell_type": "markdown",
   "metadata": {},
   "source": [
    "Now we are ready with input and output values to train our model. \n",
    "As a first step we will build a small neural network model to understand how the neural network model works.\n",
    "Every nueron you define in the model will accept the input and process the output.\n",
    "For example if a neuron receives an input x it calculates the output as\n",
    "<br>\n",
    "a = wx + b where as\n",
    "<br>\n",
    "<br>a = output\n",
    "<br>w = weight\n",
    "<br>b = bias.\n",
    "<br>Every input is multiplied by a weight(w) and adds the bias.\n",
    "These weights and bias will be adjusted as we train our model."
   ]
  },
  {
   "cell_type": "markdown",
   "metadata": {},
   "source": [
    "Our model structure is as below.\n",
    "1. Input, Output Values for training.\n",
    "2. Layer of single nueron\n",
    "3. Output"
   ]
  },
  {
   "cell_type": "markdown",
   "metadata": {},
   "source": [
    "In the first step we define the layer that accepts the input and calculates the output`"
   ]
  },
  {
   "cell_type": "code",
   "execution_count": 76,
   "metadata": {},
   "outputs": [],
   "source": [
    "layer = tf.keras.layers.Dense(units=1, input_shape=[1])"
   ]
  },
  {
   "cell_type": "markdown",
   "metadata": {},
   "source": [
    "Add the above defined layer to a model. We define the Sequential Model and add the layer by layer\n",
    "(if we have any multiple layers)"
   ]
  },
  {
   "cell_type": "code",
   "execution_count": 77,
   "metadata": {},
   "outputs": [],
   "source": [
    "model = tf.keras.Sequential([layer])"
   ]
  },
  {
   "cell_type": "markdown",
   "metadata": {},
   "source": [
    "We defined the model with layers. No we need to compile our model and tell it how to validate its output\n",
    "against the actual output. How to finetune itself, we teach the method to rectify itself.\n",
    "<br>\n",
    "Loss function - This tell what is the error(difference) value of each predicted output versus the actual output\n",
    "<br>\n",
    "Optimier function - Way to adjust the weights and biases. The minimum adjustment might take more time to train the model or overfitting. The large adjustment values may create low accurate models.\n",
    "<br>\n",
    "We will discuss more on these parameters going forward."
   ]
  },
  {
   "cell_type": "code",
   "execution_count": 78,
   "metadata": {},
   "outputs": [],
   "source": [
    "model.compile(loss=tf.keras.losses.mean_squared_error,\n",
    "             optimizer=tf.keras.optimizers.Adam(0.1))"
   ]
  },
  {
   "cell_type": "markdown",
   "metadata": {},
   "source": [
    "Now we will provide the sample training data and will run the above defined mode to fit the input data."
   ]
  },
  {
   "cell_type": "code",
   "execution_count": 79,
   "metadata": {},
   "outputs": [],
   "source": [
    "history = model.fit(input, output, epochs=1500, verbose=False)"
   ]
  },
  {
   "cell_type": "markdown",
   "metadata": {},
   "source": [
    "Lets plot the loss of our model over the epochs"
   ]
  },
  {
   "cell_type": "code",
   "execution_count": 80,
   "metadata": {},
   "outputs": [
    {
     "data": {
      "image/png": "[encoded data removed]",
      "text/plain": [
       "<Figure size 432x288 with 1 Axes>"
      ]
     },
     "metadata": {
      "needs_background": "light"
     },
     "output_type": "display_data"
    }
   ],
   "source": [
    "import matplotlib.pyplot as plt\n",
    "plt.figure()\n",
    "plt.title(\"Loss versus Epochs\")\n",
    "plt.xlabel(\"Epochs\")\n",
    "plt.ylabel(\"Loss\")\n",
    "plt.plot(history.history['loss'])\n",
    "plt.show()"
   ]
  },
  {
   "cell_type": "markdown",
   "metadata": {},
   "source": [
    "From the above plot we can say our model learnt pretty fast upto 125 epochs and after that the loss is almost flat but with consistent difference.\n",
    "As the epochs increases the loss will decrease. We will discuss on the number of epochs(early stops or finetuning the hyperparamets in the next sessions)."
   ]
  },
  {
   "cell_type": "markdown",
   "metadata": {},
   "source": [
    "Lets Predict an input which is not part of our training model. 36 is not part of our model training."
   ]
  },
  {
   "cell_type": "code",
   "execution_count": 83,
   "metadata": {},
   "outputs": [
    {
     "data": {
      "text/plain": [
       "array([[327.45712]], dtype=float32)"
      ]
     },
     "execution_count": 83,
     "metadata": {},
     "output_type": "execute_result"
    }
   ],
   "source": [
    "model.predict([36])"
   ]
  },
  {
   "cell_type": "markdown",
   "metadata": {},
   "source": [
    "Actual answer is $36 \\times 9 +3 = 327$\n",
    "Looks like our model is doing pretty well."
   ]
  },
  {
   "cell_type": "markdown",
   "metadata": {},
   "source": [
    "Like wise we can predict other variables as well"
   ]
  },
  {
   "cell_type": "code",
   "execution_count": 90,
   "metadata": {},
   "outputs": [],
   "source": [
    "validate_set = [25, 212, 49, 102]"
   ]
  },
  {
   "cell_type": "code",
   "execution_count": 91,
   "metadata": {},
   "outputs": [
    {
     "data": {
      "text/plain": [
       "array([[ 228.61075],\n",
       "       [1908.999  ],\n",
       "       [ 444.27557],\n",
       "       [ 920.53534]], dtype=float32)"
      ]
     },
     "execution_count": 91,
     "metadata": {},
     "output_type": "execute_result"
    }
   ],
   "source": [
    "model.predict(validate_set)"
   ]
  },
  {
   "cell_type": "markdown",
   "metadata": {},
   "source": [
    "Actual outputs"
   ]
  },
  {
   "cell_type": "code",
   "execution_count": 92,
   "metadata": {},
   "outputs": [
    {
     "name": "stdout",
     "output_type": "stream",
     "text": [
      "228\n",
      "1911\n",
      "444\n",
      "921\n"
     ]
    }
   ],
   "source": [
    "for val in validate_set:\n",
    "    print(estimate(val))"
   ]
  },
  {
   "cell_type": "markdown",
   "metadata": {},
   "source": [
    "As we discussed above we defined the Neural network model with single nueron. Lets print the model summary"
   ]
  },
  {
   "cell_type": "code",
   "execution_count": 93,
   "metadata": {},
   "outputs": [
    {
     "name": "stdout",
     "output_type": "stream",
     "text": [
      "Model: \"sequential_5\"\n",
      "_________________________________________________________________\n",
      "Layer (type)                 Output Shape              Param #   \n",
      "=================================================================\n",
      "dense_6 (Dense)              (None, 1)                 2         \n",
      "=================================================================\n",
      "Total params: 2\n",
      "Trainable params: 2\n",
      "Non-trainable params: 0\n",
      "_________________________________________________________________\n"
     ]
    }
   ],
   "source": [
    "model.summary()"
   ]
  },
  {
   "cell_type": "markdown",
   "metadata": {},
   "source": [
    "Here it shows param as 2.\n",
    "How to calculate the params at each learning layer(will discuss about the learning layers later).\n",
    "Here it is single neuron it takes only two parameters as weight and bias.\n",
    "Lets see what are the weights and bias of that single neuron in the layer."
   ]
  },
  {
   "cell_type": "code",
   "execution_count": 98,
   "metadata": {},
   "outputs": [
    {
     "data": {
      "text/plain": [
       "array([3.9599223], dtype=float32)"
      ]
     },
     "execution_count": 98,
     "metadata": {},
     "output_type": "execute_result"
    }
   ],
   "source": [
    "layer.get_weights()"
   ]
  },
  {
   "cell_type": "markdown",
   "metadata": {},
   "source": [
    "As you see the above function prints the weights and bias. Here the weight is 8.986033 and bias is 3.9599\n",
    "<br><br>\n",
    "The single neuron constructed a function on the input as $8.986033 \\times input + 3.9599$\n",
    "<br><br>\n",
    "If you observe the above equation it is close to our actual function. Here the bias was not adjusted close to 3 but\n",
    "we see the function is almost same as our actual function. As it is artificial there is always a chance for the error which can be negotiable at this point of time."
   ]
  },
  {
   "cell_type": "markdown",
   "metadata": {},
   "source": [
    "Lets see the visualization of the model using tensorboard"
   ]
  },
  {
   "cell_type": "code",
   "execution_count": 119,
   "metadata": {},
   "outputs": [],
   "source": [
    "import tensorboard\n",
    "from datetime import datetime"
   ]
  },
  {
   "cell_type": "code",
   "execution_count": 127,
   "metadata": {},
   "outputs": [],
   "source": [
    "# Define the Keras TensorBoard callback.\n",
    "logdir=\"logs/fit/\" + datetime.now().strftime(\"%Y%m%d-%H%M%S\")\n",
    "tensorboard_callback = tf.keras.callbacks.TensorBoard(log_dir=logdir)"
   ]
  },
  {
   "cell_type": "code",
   "execution_count": 128,
   "metadata": {},
   "outputs": [],
   "source": [
    "model = tf.keras.Sequential([layer])"
   ]
  },
  {
   "cell_type": "code",
   "execution_count": 129,
   "metadata": {},
   "outputs": [],
   "source": [
    "model.compile(loss=tf.keras.losses.mean_squared_error,\n",
    "             optimizer=tf.keras.optimizers.Adam(0.1))"
   ]
  },
  {
   "cell_type": "code",
   "execution_count": 130,
   "metadata": {},
   "outputs": [
    {
     "data": {
      "text/plain": [
       "<tensorflow.python.keras.callbacks.History at 0x7fa46f248590>"
      ]
     },
     "execution_count": 130,
     "metadata": {},
     "output_type": "execute_result"
    }
   ],
   "source": [
    "model.fit(\n",
    "    input, output, epochs=1500,\n",
    "    callbacks=[tensorboard_callback], verbose=False)"
   ]
  },
  {
   "cell_type": "code",
   "execution_count": 132,
   "metadata": {},
   "outputs": [
    {
     "data": {
      "text/html": [
       "\n",
       "      <iframe id=\"tensorboard-frame-9cd71f5a1eec3119\" width=\"100%\" height=\"800\" frameborder=\"0\">\n",
       "      </iframe>\n",
       "      <script>\n",
       "        (function() {\n",
       "          const frame = document.getElementById(\"tensorboard-frame-9cd71f5a1eec3119\");\n",
       "          const url = new URL(\"/\", window.location);\n",
       "          const port = 6006;\n",
       "          if (port) {\n",
       "            url.port = port;\n",
       "          }\n",
       "          frame.src = url;\n",
       "        })();\n",
       "      </script>\n",
       "    "
      ],
      "text/plain": [
       "<IPython.core.display.HTML object>"
      ]
     },
     "metadata": {},
     "output_type": "display_data"
    }
   ],
   "source": [
    "%load_ext tensorboard\n",
    "%tensorboard --logdir {logdir}\n"
   ]
  },
  {
   "cell_type": "code",
   "execution_count": null,
   "metadata": {},
   "outputs": [],
   "source": []
  }
 ],
 "metadata": {
  "kernelspec": {
   "display_name": "Python 3",
   "language": "python",
   "name": "python3"
  },
  "language_info": {
   "codemirror_mode": {
    "name": "ipython",
    "version": 3
   },
   "file_extension": ".py",
   "mimetype": "text/x-python",
   "name": "python",
   "nbconvert_exporter": "python",
   "pygments_lexer": "ipython3",
   "version": "3.7.6"
  }
 },
 "nbformat": 4,
 "nbformat_minor": 4
}
